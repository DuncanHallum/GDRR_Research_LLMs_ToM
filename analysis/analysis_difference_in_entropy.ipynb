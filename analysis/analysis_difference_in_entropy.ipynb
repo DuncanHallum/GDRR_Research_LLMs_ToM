{
 "cells": [
  {
   "cell_type": "code",
   "execution_count": 1,
   "metadata": {},
   "outputs": [
    {
     "ename": "KeyboardInterrupt",
     "evalue": "",
     "output_type": "error",
     "traceback": [
      "\u001b[31m---------------------------------------------------------------------------\u001b[39m",
      "\u001b[31mKeyboardInterrupt\u001b[39m                         Traceback (most recent call last)",
      "\u001b[36mCell\u001b[39m\u001b[36m \u001b[39m\u001b[32mIn[1]\u001b[39m\u001b[32m, line 6\u001b[39m\n\u001b[32m      4\u001b[39m \u001b[38;5;28;01mfrom\u001b[39;00m\u001b[38;5;250m \u001b[39m\u001b[34;01mpathlib\u001b[39;00m\u001b[38;5;250m \u001b[39m\u001b[38;5;28;01mimport\u001b[39;00m Path\n\u001b[32m      5\u001b[39m \u001b[38;5;28;01mimport\u001b[39;00m\u001b[38;5;250m \u001b[39m\u001b[34;01msys\u001b[39;00m\n\u001b[32m----> \u001b[39m\u001b[32m6\u001b[39m \u001b[38;5;28;01mimport\u001b[39;00m\u001b[38;5;250m \u001b[39m\u001b[34;01mmatplotlib\u001b[39;00m\u001b[34;01m.\u001b[39;00m\u001b[34;01mpyplot\u001b[39;00m\u001b[38;5;250m \u001b[39m\u001b[38;5;28;01mas\u001b[39;00m\u001b[38;5;250m \u001b[39m\u001b[34;01mplt\u001b[39;00m\n",
      "\u001b[36mFile \u001b[39m\u001b[32mc:\\Users\\dchal\\Documents\\GitHub\\GDRR_Research_LLMs_ToM\\venv\\Lib\\site-packages\\matplotlib\\pyplot.py:70\u001b[39m\n\u001b[32m     67\u001b[39m \u001b[38;5;28;01mfrom\u001b[39;00m\u001b[38;5;250m \u001b[39m\u001b[34;01mmatplotlib\u001b[39;00m\u001b[38;5;250m \u001b[39m\u001b[38;5;28;01mimport\u001b[39;00m _docstring\n\u001b[32m     68\u001b[39m \u001b[38;5;28;01mfrom\u001b[39;00m\u001b[38;5;250m \u001b[39m\u001b[34;01mmatplotlib\u001b[39;00m\u001b[34;01m.\u001b[39;00m\u001b[34;01mbackend_bases\u001b[39;00m\u001b[38;5;250m \u001b[39m\u001b[38;5;28;01mimport\u001b[39;00m (\n\u001b[32m     69\u001b[39m     FigureCanvasBase, FigureManagerBase, MouseButton)\n\u001b[32m---> \u001b[39m\u001b[32m70\u001b[39m \u001b[38;5;28;01mfrom\u001b[39;00m\u001b[38;5;250m \u001b[39m\u001b[34;01mmatplotlib\u001b[39;00m\u001b[34;01m.\u001b[39;00m\u001b[34;01mfigure\u001b[39;00m\u001b[38;5;250m \u001b[39m\u001b[38;5;28;01mimport\u001b[39;00m Figure, FigureBase, figaspect\n\u001b[32m     71\u001b[39m \u001b[38;5;28;01mfrom\u001b[39;00m\u001b[38;5;250m \u001b[39m\u001b[34;01mmatplotlib\u001b[39;00m\u001b[34;01m.\u001b[39;00m\u001b[34;01mgridspec\u001b[39;00m\u001b[38;5;250m \u001b[39m\u001b[38;5;28;01mimport\u001b[39;00m GridSpec, SubplotSpec\n\u001b[32m     72\u001b[39m \u001b[38;5;28;01mfrom\u001b[39;00m\u001b[38;5;250m \u001b[39m\u001b[34;01mmatplotlib\u001b[39;00m\u001b[38;5;250m \u001b[39m\u001b[38;5;28;01mimport\u001b[39;00m rcsetup, rcParamsDefault, rcParamsOrig\n",
      "\u001b[36mFile \u001b[39m\u001b[32mc:\\Users\\dchal\\Documents\\GitHub\\GDRR_Research_LLMs_ToM\\venv\\Lib\\site-packages\\matplotlib\\figure.py:40\u001b[39m\n\u001b[32m     37\u001b[39m \u001b[38;5;28;01mimport\u001b[39;00m\u001b[38;5;250m \u001b[39m\u001b[34;01mnumpy\u001b[39;00m\u001b[38;5;250m \u001b[39m\u001b[38;5;28;01mas\u001b[39;00m\u001b[38;5;250m \u001b[39m\u001b[34;01mnp\u001b[39;00m\n\u001b[32m     39\u001b[39m \u001b[38;5;28;01mimport\u001b[39;00m\u001b[38;5;250m \u001b[39m\u001b[34;01mmatplotlib\u001b[39;00m\u001b[38;5;250m \u001b[39m\u001b[38;5;28;01mas\u001b[39;00m\u001b[38;5;250m \u001b[39m\u001b[34;01mmpl\u001b[39;00m\n\u001b[32m---> \u001b[39m\u001b[32m40\u001b[39m \u001b[38;5;28;01mfrom\u001b[39;00m\u001b[38;5;250m \u001b[39m\u001b[34;01mmatplotlib\u001b[39;00m\u001b[38;5;250m \u001b[39m\u001b[38;5;28;01mimport\u001b[39;00m _blocking_input, backend_bases, _docstring, projections\n\u001b[32m     41\u001b[39m \u001b[38;5;28;01mfrom\u001b[39;00m\u001b[38;5;250m \u001b[39m\u001b[34;01mmatplotlib\u001b[39;00m\u001b[34;01m.\u001b[39;00m\u001b[34;01martist\u001b[39;00m\u001b[38;5;250m \u001b[39m\u001b[38;5;28;01mimport\u001b[39;00m (\n\u001b[32m     42\u001b[39m     Artist, allow_rasterization, _finalize_rasterization)\n\u001b[32m     43\u001b[39m \u001b[38;5;28;01mfrom\u001b[39;00m\u001b[38;5;250m \u001b[39m\u001b[34;01mmatplotlib\u001b[39;00m\u001b[34;01m.\u001b[39;00m\u001b[34;01mbackend_bases\u001b[39;00m\u001b[38;5;250m \u001b[39m\u001b[38;5;28;01mimport\u001b[39;00m (\n\u001b[32m     44\u001b[39m     DrawEvent, FigureCanvasBase, NonGuiException, MouseButton, _get_renderer)\n",
      "\u001b[36mFile \u001b[39m\u001b[32mc:\\Users\\dchal\\Documents\\GitHub\\GDRR_Research_LLMs_ToM\\venv\\Lib\\site-packages\\matplotlib\\projections\\__init__.py:55\u001b[39m\n\u001b[32m      1\u001b[39m \u001b[33;03m\"\"\"\u001b[39;00m\n\u001b[32m      2\u001b[39m \u001b[33;03mNon-separable transforms that map from data space to screen space.\u001b[39;00m\n\u001b[32m      3\u001b[39m \n\u001b[32m   (...)\u001b[39m\u001b[32m     52\u001b[39m \u001b[33;03m`matplotlib.projections.polar` may also be of interest.\u001b[39;00m\n\u001b[32m     53\u001b[39m \u001b[33;03m\"\"\"\u001b[39;00m\n\u001b[32m---> \u001b[39m\u001b[32m55\u001b[39m \u001b[38;5;28;01mfrom\u001b[39;00m\u001b[38;5;250m \u001b[39m\u001b[34;01m.\u001b[39;00m\u001b[34;01m.\u001b[39;00m\u001b[38;5;250m \u001b[39m\u001b[38;5;28;01mimport\u001b[39;00m axes, _docstring\n\u001b[32m     56\u001b[39m \u001b[38;5;28;01mfrom\u001b[39;00m\u001b[38;5;250m \u001b[39m\u001b[34;01m.\u001b[39;00m\u001b[34;01mgeo\u001b[39;00m\u001b[38;5;250m \u001b[39m\u001b[38;5;28;01mimport\u001b[39;00m AitoffAxes, HammerAxes, LambertAxes, MollweideAxes\n\u001b[32m     57\u001b[39m \u001b[38;5;28;01mfrom\u001b[39;00m\u001b[38;5;250m \u001b[39m\u001b[34;01m.\u001b[39;00m\u001b[34;01mpolar\u001b[39;00m\u001b[38;5;250m \u001b[39m\u001b[38;5;28;01mimport\u001b[39;00m PolarAxes\n",
      "\u001b[36mFile \u001b[39m\u001b[32mc:\\Users\\dchal\\Documents\\GitHub\\GDRR_Research_LLMs_ToM\\venv\\Lib\\site-packages\\matplotlib\\axes\\__init__.py:1\u001b[39m\n\u001b[32m----> \u001b[39m\u001b[32m1\u001b[39m \u001b[38;5;28;01mfrom\u001b[39;00m\u001b[38;5;250m \u001b[39m\u001b[34;01m.\u001b[39;00m\u001b[38;5;250m \u001b[39m\u001b[38;5;28;01mimport\u001b[39;00m _base\n\u001b[32m      2\u001b[39m \u001b[38;5;28;01mfrom\u001b[39;00m\u001b[38;5;250m \u001b[39m\u001b[34;01m.\u001b[39;00m\u001b[34;01m_axes\u001b[39;00m\u001b[38;5;250m \u001b[39m\u001b[38;5;28;01mimport\u001b[39;00m Axes\n\u001b[32m      4\u001b[39m \u001b[38;5;66;03m# Backcompat.\u001b[39;00m\n",
      "\u001b[36mFile \u001b[39m\u001b[32mc:\\Users\\dchal\\Documents\\GitHub\\GDRR_Research_LLMs_ToM\\venv\\Lib\\site-packages\\matplotlib\\axes\\_base.py:16\u001b[39m\n\u001b[32m     14\u001b[39m \u001b[38;5;28;01mfrom\u001b[39;00m\u001b[38;5;250m \u001b[39m\u001b[34;01mmatplotlib\u001b[39;00m\u001b[38;5;250m \u001b[39m\u001b[38;5;28;01mimport\u001b[39;00m _api, cbook, _docstring, offsetbox\n\u001b[32m     15\u001b[39m \u001b[38;5;28;01mimport\u001b[39;00m\u001b[38;5;250m \u001b[39m\u001b[34;01mmatplotlib\u001b[39;00m\u001b[34;01m.\u001b[39;00m\u001b[34;01martist\u001b[39;00m\u001b[38;5;250m \u001b[39m\u001b[38;5;28;01mas\u001b[39;00m\u001b[38;5;250m \u001b[39m\u001b[34;01mmartist\u001b[39;00m\n\u001b[32m---> \u001b[39m\u001b[32m16\u001b[39m \u001b[38;5;28;01mimport\u001b[39;00m\u001b[38;5;250m \u001b[39m\u001b[34;01mmatplotlib\u001b[39;00m\u001b[34;01m.\u001b[39;00m\u001b[34;01maxis\u001b[39;00m\u001b[38;5;250m \u001b[39m\u001b[38;5;28;01mas\u001b[39;00m\u001b[38;5;250m \u001b[39m\u001b[34;01mmaxis\u001b[39;00m\n\u001b[32m     17\u001b[39m \u001b[38;5;28;01mfrom\u001b[39;00m\u001b[38;5;250m \u001b[39m\u001b[34;01mmatplotlib\u001b[39;00m\u001b[34;01m.\u001b[39;00m\u001b[34;01mcbook\u001b[39;00m\u001b[38;5;250m \u001b[39m\u001b[38;5;28;01mimport\u001b[39;00m _OrderedSet, _check_1d, index_of\n\u001b[32m     18\u001b[39m \u001b[38;5;28;01mimport\u001b[39;00m\u001b[38;5;250m \u001b[39m\u001b[34;01mmatplotlib\u001b[39;00m\u001b[34;01m.\u001b[39;00m\u001b[34;01mcollections\u001b[39;00m\u001b[38;5;250m \u001b[39m\u001b[38;5;28;01mas\u001b[39;00m\u001b[38;5;250m \u001b[39m\u001b[34;01mmcoll\u001b[39;00m\n",
      "\u001b[36mFile \u001b[39m\u001b[32mc:\\Users\\dchal\\Documents\\GitHub\\GDRR_Research_LLMs_ToM\\venv\\Lib\\site-packages\\matplotlib\\axis.py:22\u001b[39m\n\u001b[32m     20\u001b[39m \u001b[38;5;28;01mimport\u001b[39;00m\u001b[38;5;250m \u001b[39m\u001b[34;01mmatplotlib\u001b[39;00m\u001b[34;01m.\u001b[39;00m\u001b[34;01mticker\u001b[39;00m\u001b[38;5;250m \u001b[39m\u001b[38;5;28;01mas\u001b[39;00m\u001b[38;5;250m \u001b[39m\u001b[34;01mmticker\u001b[39;00m\n\u001b[32m     21\u001b[39m \u001b[38;5;28;01mimport\u001b[39;00m\u001b[38;5;250m \u001b[39m\u001b[34;01mmatplotlib\u001b[39;00m\u001b[34;01m.\u001b[39;00m\u001b[34;01mtransforms\u001b[39;00m\u001b[38;5;250m \u001b[39m\u001b[38;5;28;01mas\u001b[39;00m\u001b[38;5;250m \u001b[39m\u001b[34;01mmtransforms\u001b[39;00m\n\u001b[32m---> \u001b[39m\u001b[32m22\u001b[39m \u001b[38;5;28;01mimport\u001b[39;00m\u001b[38;5;250m \u001b[39m\u001b[34;01mmatplotlib\u001b[39;00m\u001b[34;01m.\u001b[39;00m\u001b[34;01munits\u001b[39;00m\u001b[38;5;250m \u001b[39m\u001b[38;5;28;01mas\u001b[39;00m\u001b[38;5;250m \u001b[39m\u001b[34;01mmunits\u001b[39;00m\n\u001b[32m     24\u001b[39m _log = logging.getLogger(\u001b[34m__name__\u001b[39m)\n\u001b[32m     26\u001b[39m GRIDLINE_INTERPOLATION_STEPS = \u001b[32m180\u001b[39m\n",
      "\u001b[36mFile \u001b[39m\u001b[32m<frozen importlib._bootstrap>:1176\u001b[39m, in \u001b[36m_find_and_load\u001b[39m\u001b[34m(name, import_)\u001b[39m\n",
      "\u001b[36mFile \u001b[39m\u001b[32m<frozen importlib._bootstrap>:1147\u001b[39m, in \u001b[36m_find_and_load_unlocked\u001b[39m\u001b[34m(name, import_)\u001b[39m\n",
      "\u001b[36mFile \u001b[39m\u001b[32m<frozen importlib._bootstrap>:690\u001b[39m, in \u001b[36m_load_unlocked\u001b[39m\u001b[34m(spec)\u001b[39m\n",
      "\u001b[36mFile \u001b[39m\u001b[32m<frozen importlib._bootstrap_external>:936\u001b[39m, in \u001b[36mexec_module\u001b[39m\u001b[34m(self, module)\u001b[39m\n",
      "\u001b[36mFile \u001b[39m\u001b[32m<frozen importlib._bootstrap_external>:1032\u001b[39m, in \u001b[36mget_code\u001b[39m\u001b[34m(self, fullname)\u001b[39m\n",
      "\u001b[36mFile \u001b[39m\u001b[32m<frozen importlib._bootstrap_external>:1130\u001b[39m, in \u001b[36mget_data\u001b[39m\u001b[34m(self, path)\u001b[39m\n",
      "\u001b[31mKeyboardInterrupt\u001b[39m: "
     ]
    }
   ],
   "source": [
    "import pandas as pd\n",
    "import numpy as np\n",
    "from statistics import mean, median\n",
    "from pathlib import Path\n",
    "import sys\n",
    "import matplotlib.pyplot as plt\n"
   ]
  },
  {
   "cell_type": "code",
   "execution_count": null,
   "metadata": {},
   "outputs": [],
   "source": [
    "BASE_PATH = Path.cwd().parent\n",
    "TESTING_FILES_BASE_PATH = BASE_PATH/\"testing\"/\"files\"\n",
    "sys.path.append(str(BASE_PATH))"
   ]
  },
  {
   "cell_type": "code",
   "execution_count": null,
   "metadata": {},
   "outputs": [],
   "source": [
    "from model.main import EMOTIONS\n",
    "print(EMOTIONS)\n",
    "\n",
    "def plot_beliefs(belief_user, belief_character, belief_user_character):\n",
    "    x = np.arange(len(EMOTIONS))\n",
    "    width = 0.25  # Slightly smaller width to fit 3 bars\n",
    "\n",
    "    label1 = \"System's belief about User\"\n",
    "    label2 = \"System's belief about other character\"\n",
    "    label3 = \"System's belief about User's belief about other character\"\n",
    "\n",
    "    fig, ax = plt.subplots()\n",
    "    bars1 = ax.bar(x - width, belief_user, width, label=label1)\n",
    "    bars2 = ax.bar(x, belief_character, width, label=label2)\n",
    "    bars3 = ax.bar(x + width, belief_user_character, width, label=label3)\n",
    "\n",
    "    ax.set_xlabel('Mental States')\n",
    "    ax.set_ylabel('Probability')\n",
    "    ax.set_title('Belief Distribution')\n",
    "    ax.set_xticks(x)\n",
    "    ax.set_xticklabels(EMOTIONS)\n",
    "    ax.legend()\n",
    "\n",
    "    plt.ylim(0, 1)\n",
    "    plt.xticks(rotation=90)\n",
    "    plt.tight_layout()\n",
    "    plt.show()"
   ]
  },
  {
   "cell_type": "code",
   "execution_count": null,
   "metadata": {},
   "outputs": [],
   "source": [
    "# Entropy: using log base 2\n",
    "def entropy(dist):\n",
    "    dist = np.array(dist)\n",
    "    dist = dist[dist > 0]  # Avoid log(0)\n",
    "    return -np.sum(dist * np.log2(dist))"
   ]
  },
  {
   "cell_type": "code",
   "execution_count": null,
   "metadata": {},
   "outputs": [],
   "source": [
    "# Takes data from neg_correlation_emotions, pos_correlation_emotions and uncorrelated_emotions distributions\n",
    "# Generates stats on distribution divergence (Jensen-Shannon divergence) \n",
    "class TestCaseDiffEntropy():\n",
    "    # Read files and generate stats\n",
    "    def __init__(self, folder_path_dists, file_path_messages):\n",
    "        with open(file_path_messages, encoding=\"utf-8\") as f_explicit:\n",
    "            self.messages = f_explicit.read().split(\"\\n\")\n",
    "\n",
    "        self.num_files = len(self.messages)\n",
    "        self.System_beliefs_user = [] # dist 1: System's belief of User\n",
    "        self.System_beliefs_character = [] # dist 2: System's belief of other character\n",
    "        self.System_beliefs_users_belief_character = [] # dist 3: System's belief of User's belief of other character\n",
    "        self.diffs_1_2 = []\n",
    "        self.diffs_1_3 = []\n",
    "        self.diffs_2_3 = []\n",
    "\n",
    "        for i in range(self.num_files):\n",
    "            df = pd.read_csv(folder_path_dists/(\"message_\"+str(i+1)+\"_belief_dist.csv\"))\n",
    "            self.System_beliefs_user.append(df[\"Prob_System_belief_User\"])\n",
    "            self.System_beliefs_character.append(df[\"Prob_System_belief_Character\"])\n",
    "            self.System_beliefs_users_belief_character.append(df[\"Prob_System_belief_User_belief_Character\"])\n",
    "\n",
    "            # Jensen-Shannon Divergences\n",
    "            diff_1_2 = abs(entropy(df[\"Prob_System_belief_User\"]) - entropy(df[\"Prob_System_belief_Character\"]))\n",
    "            self.diffs_1_2.append(diff_1_2)\n",
    "\n",
    "            diff_1_3 = abs(entropy(df[\"Prob_System_belief_User\"]) - entropy(df[\"Prob_System_belief_User_belief_Character\"]))\n",
    "            self.diffs_1_3.append(diff_1_3)\n",
    "\n",
    "            diff_2_3 = abs(entropy(df[\"Prob_System_belief_Character\"]) - entropy(df[\"Prob_System_belief_User_belief_Character\"]))\n",
    "            self.diffs_2_3.append(diff_2_3)\n",
    "            \n",
    "    def display_stats(self):\n",
    "        for i in range(self.num_files):\n",
    "            print(\"\\n------------------------------------------------------------------\" \\\n",
    "            \"\\n\"+str(i+1)+\"-User message:\", self.messages[i])\n",
    "            plot_beliefs(self.System_beliefs_user[i], self.System_beliefs_character[i], self.System_beliefs_users_belief_character[i])\n",
    "            print(\"Entropy Delta - between System's belief of User & System's belief of other character: \", self.diffs_1_2[i])\n",
    "            \n",
    "            print(\"Entropy Delta - between System's belief of User & System's belief of User's belief of other character: \", self.diffs_1_3[i])\n",
    "            \n",
    "            print(\"Entropy Delta - between System's belief of Other character & System's belief of User's belief of other character: \", self.diffs_2_3[i])\n",
    "            "
   ]
  },
  {
   "cell_type": "markdown",
   "metadata": {},
   "source": [
    "Get and display all results individually"
   ]
  },
  {
   "cell_type": "code",
   "execution_count": null,
   "metadata": {},
   "outputs": [],
   "source": [
    "DISTRIBUTIONS_BASE_PATH = TESTING_FILES_BASE_PATH/\"distributions\"\n",
    "MESSAGES_BASE_PATH = TESTING_FILES_BASE_PATH/\"messages\"\n",
    "\n",
    "# Divergence test cases\n",
    "aligned_test_case = TestCaseDiffEntropy(DISTRIBUTIONS_BASE_PATH/\"aligned_emotions\", MESSAGES_BASE_PATH/\"aligned_emotions.txt\")\n",
    "neither_test_case = TestCaseDiffEntropy(DISTRIBUTIONS_BASE_PATH/\"neither_aligned_nor_unaligned_emotions\", MESSAGES_BASE_PATH/\"neither_aligned_nor_unaligned_emotions.txt\")\n",
    "unaligned_test_case = TestCaseDiffEntropy(DISTRIBUTIONS_BASE_PATH/\"unaligned_emotions\", MESSAGES_BASE_PATH/\"unaligned_emotions.txt\")\n"
   ]
  },
  {
   "cell_type": "code",
   "execution_count": null,
   "metadata": {},
   "outputs": [],
   "source": [
    "# Display individual message stats\n",
    "print(\"ENTROPY DELTA STATS \\n\\n\")\n",
    "\n",
    "print(\"Prompted to be alinged: \\n\")\n",
    "aligned_test_case.display_stats()\n",
    "print(\"Prompted to be neither aligned nor unaligned: \\n\")\n",
    "neither_test_case.display_stats()\n",
    "print(\"Prompted to be unaligned: \\n\")\n",
    "unaligned_test_case.display_stats()"
   ]
  },
  {
   "cell_type": "markdown",
   "metadata": {},
   "source": [
    "High level overview"
   ]
  },
  {
   "cell_type": "code",
   "execution_count": null,
   "metadata": {},
   "outputs": [],
   "source": [
    "def show_aggregated_results_entropy_delta(aligned_test_case, neither_test_case, unaligned_test_case):\n",
    "    num_files = aligned_test_case.num_files\n",
    "    labels = [\n",
    "        'Character & User emotions aligned', 'Character & User emotions not specified', 'Character & User emotions unaligned'\n",
    "    ]\n",
    "\n",
    "    # ENTROPY DELTA - between System's belief of User & System's belief of other character\n",
    "    plt.figure(figsize=(5, 5))\n",
    "    plt.boxplot([\n",
    "        aligned_test_case.diffs_1_2,\n",
    "        neither_test_case.diffs_1_2,\n",
    "        unaligned_test_case.diffs_1_2,\n",
    "    ], labels=labels)\n",
    "    plt.ylabel(\"Entropy Delta\")\n",
    "    plt.title(\"ENTROPY DELTA - between System's belief of User & System's belief of other character\")\n",
    "    plt.ylim(0, 0.5)\n",
    "    plt.xticks(rotation=90)\n",
    "    plt.show()\n",
    "    print(f\"Means — Aligned: {mean(aligned_test_case.diffs_1_2):.4f}, Neither: {mean(neither_test_case.diffs_1_2):.4f}, Unaligned: {mean(unaligned_test_case.diffs_1_2):.4f}\")\n",
    "    print(f\"Medians — Aligned: {median(aligned_test_case.diffs_1_2):.4f}, Neither: {median(neither_test_case.diffs_1_2):.4f}, Unaligned: {median(unaligned_test_case.diffs_1_2):.4f}\")\n",
    "    \n",
    "\n",
    "    # ENTROPY DELTA - between System's belief of User & System's belief of User's belief of other character\n",
    "    plt.figure(figsize=(5, 5))\n",
    "    plt.boxplot([\n",
    "        aligned_test_case.diffs_1_3,\n",
    "        neither_test_case.diffs_1_3,\n",
    "        unaligned_test_case.diffs_1_3,\n",
    "    ], labels=labels)\n",
    "    plt.ylabel(\"Entropy Delta\")\n",
    "    plt.title(\"ENTROPY DELTA - between System's belief of User &\\n System's belief of User's belief of other character\")\n",
    "    plt.ylim(0, 0.5)\n",
    "    plt.xticks(rotation=90)\n",
    "    plt.show()\n",
    "    print(f\"Means — Aligned: {mean(aligned_test_case.diffs_1_3):.4f}, Neither: {mean(neither_test_case.diffs_1_3):.4f}, Unaligned: {mean(unaligned_test_case.diffs_1_3):.4f}\")\n",
    "    print(f\"Medians — Aligned: {median(aligned_test_case.diffs_1_3):.4f}, Neither: {median(neither_test_case.diffs_1_3):.4f}, Unaligned: {median(unaligned_test_case.diffs_1_3):.4f}\")\n",
    "    \n",
    "\n",
    "    # ENTROPY DELTA - between System's belief of other character & System's belief of User's belief of other character\n",
    "    plt.figure(figsize=(5, 5))\n",
    "    plt.boxplot([\n",
    "        aligned_test_case.diffs_2_3,\n",
    "        neither_test_case.diffs_2_3,\n",
    "        unaligned_test_case.diffs_2_3,\n",
    "    ], labels=labels)\n",
    "    plt.ylabel(\"Entropy Delta\")\n",
    "    plt.title(\"ENTROPY DELTA - between System's belief of other character &\\n System's belief of User's belief of other character\")\n",
    "    plt.ylim(0, 0.5)\n",
    "    plt.xticks(rotation=90)\n",
    "    plt.show()\n",
    "    print(f\"Means — Aligned: {mean(aligned_test_case.diffs_2_3):.4f}, Neither: {mean(neither_test_case.diffs_2_3):.4f}, Unaligned: {mean(unaligned_test_case.diffs_2_3):.4f}\")\n",
    "    print(f\"Medians — Aligned: {median(aligned_test_case.diffs_2_3):.4f}, Neither: {median(neither_test_case.diffs_2_3):.4f}, Unaligned: {median(unaligned_test_case.diffs_2_3):.4f}\")\n",
    "    \n",
    "\n",
    "\n",
    "show_aggregated_results_entropy_delta(aligned_test_case, neither_test_case, unaligned_test_case)\n"
   ]
  },
  {
   "cell_type": "code",
   "execution_count": null,
   "metadata": {},
   "outputs": [],
   "source": [
    "from scipy.stats import kruskal, mannwhitneyu\n",
    "\n",
    "# Statistical significance\n",
    "\n",
    "def compute_stats(label, aligned, neither, unaligned):\n",
    "    print(f\"\\n--- {label} ---\")\n",
    "\n",
    "    # Kruskal-Wallis Test across all 3 groups\n",
    "    h_stat, p_value = kruskal(aligned, neither, unaligned)\n",
    "    print(f\"Kruskal-Wallis H-test: H = {h_stat:.4f}, p = {p_value:.4e}\")\n",
    "\n",
    "    # Pairwise Mann-Whitney U Tests\n",
    "    def pairwise_test(a, b, label_a, label_b):\n",
    "        u, p = mannwhitneyu(a, b, alternative=\"two-sided\")\n",
    "        print(f\" {label_a} vs {label_b}: Mann–Whitney U = {u}, p = {p:.4e}\")\n",
    "\n",
    "    print(\"Pairwise Mann-Whitney U tests:\")\n",
    "    pairwise_test(aligned, neither, \"Aligned\", \"Neither\")\n",
    "    pairwise_test(aligned, unaligned, \"Aligned\", \"Unaligned\")\n",
    "    pairwise_test(neither, unaligned, \"Neither\", \"Unaligned\")\n",
    "\n",
    "def show_statistical_results(aligned_test_case, neither_test_case, unaligned_test_case):\n",
    "    compute_stats(\"JSD: Belief(User) vs Belief(Other)\", aligned_test_case.diffs_1_2, neither_test_case.diffs_1_2, unaligned_test_case.diffs_1_2)\n",
    "    compute_stats(\"JSD: Belief(User) vs Belief(User→Other)\", aligned_test_case.diffs_1_3, neither_test_case.diffs_1_3, unaligned_test_case.diffs_1_3)\n",
    "    compute_stats(\"JSD: Belief(Other) vs Belief(User→Other)\", aligned_test_case.diffs_2_3, neither_test_case.diffs_2_3, unaligned_test_case.diffs_2_3)\n",
    "\n",
    "show_statistical_results(aligned_test_case, neither_test_case, unaligned_test_case)"
   ]
  }
 ],
 "metadata": {
  "kernelspec": {
   "display_name": "venv",
   "language": "python",
   "name": "python3"
  },
  "language_info": {
   "codemirror_mode": {
    "name": "ipython",
    "version": 3
   },
   "file_extension": ".py",
   "mimetype": "text/x-python",
   "name": "python",
   "nbconvert_exporter": "python",
   "pygments_lexer": "ipython3",
   "version": "3.11.9"
  }
 },
 "nbformat": 4,
 "nbformat_minor": 2
}
